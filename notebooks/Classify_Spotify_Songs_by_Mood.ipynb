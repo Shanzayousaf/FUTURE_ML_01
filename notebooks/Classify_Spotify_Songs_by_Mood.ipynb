{
  "nbformat": 4,
  "nbformat_minor": 0,
  "metadata": {
    "colab": {
      "provenance": [],
      "private_outputs": true,
      "cell_execution_strategy": "setup",
      "authorship_tag": "ABX9TyP4BAuFvgH1B07DVm++UhA3",
      "include_colab_link": true
    },
    "kernelspec": {
      "name": "python3",
      "display_name": "Python 3"
    },
    "language_info": {
      "name": "python"
    }
  },
  "cells": [
    {
      "cell_type": "markdown",
      "metadata": {
        "id": "view-in-github",
        "colab_type": "text"
      },
      "source": [
        "<a href=\"https://colab.research.google.com/github/Shanzayousaf/FUTURE_ML_01/blob/main/notebooks/Classify_Spotify_Songs_by_Mood.ipynb\" target=\"_parent\"><img src=\"https://colab.research.google.com/assets/colab-badge.svg\" alt=\"Open In Colab\"/></a>"
      ]
    },
    {
      "cell_type": "code",
      "execution_count": null,
      "metadata": {
        "id": "3Ky8rRMY38R3"
      },
      "outputs": [],
      "source": [
        "!pip install pandas numpy scikit-learn matplotlib seaborn librosa"
      ]
    },
    {
      "cell_type": "code",
      "source": [
        "from google.colab import drive\n",
        "drive.mount('/content/drive')"
      ],
      "metadata": {
        "id": "E3fdNI9GbGcG"
      },
      "execution_count": null,
      "outputs": []
    },
    {
      "cell_type": "code",
      "source": [
        "import pandas as pd\n",
        "\n",
        "file_path = '/content/drive/My Drive/dataset.csv'\n",
        "data = pd.read_csv(file_path)\n",
        "print(data.head())\n",
        "\n"
      ],
      "metadata": {
        "id": "cooANNKD4yZe"
      },
      "execution_count": null,
      "outputs": []
    },
    {
      "cell_type": "code",
      "source": [
        "data.columns"
      ],
      "metadata": {
        "id": "xXWCF0zIEv1_"
      },
      "execution_count": null,
      "outputs": []
    },
    {
      "cell_type": "code",
      "source": [
        "data.drop(columns=['Unnamed: 0', 'track_id', 'artists', 'album_name','popularity', 'duration_ms', 'explicit',], inplace=True)"
      ],
      "metadata": {
        "id": "AGUbMSUbE1_c"
      },
      "execution_count": null,
      "outputs": []
    },
    {
      "cell_type": "code",
      "source": [
        "data.columns"
      ],
      "metadata": {
        "id": "AMy8Pun5FHcu"
      },
      "execution_count": null,
      "outputs": []
    },
    {
      "cell_type": "code",
      "source": [
        "from sklearn.preprocessing import StandardScaler\n",
        "\n",
        "features = ['danceability', 'energy', 'key', 'loudness', 'mode',\n",
        "       'speechiness', 'acousticness', 'instrumentalness', 'liveness',\n",
        "       'valence', 'tempo', 'time_signature']\n",
        "X = data[features]\n",
        "X_scaled = StandardScaler().fit_transform(X)\n",
        "Y = data['track_genre']\n"
      ],
      "metadata": {
        "id": "BsUWyIMG49UX"
      },
      "execution_count": null,
      "outputs": []
    },
    {
      "cell_type": "code",
      "source": [
        "def classify_mood(row):\n",
        "    if row['valence'] > 0.6 and row['energy'] > 0.6:\n",
        "        return \"Happy\"\n",
        "    elif row['valence'] < 0.4 and row['energy'] < 0.4:\n",
        "        return \"Sad\"\n",
        "    elif row['valence'] > 0.6 and row['energy'] < 0.4:\n",
        "        return \"Peaceful\"\n",
        "    elif row['valence'] < 0.4 and row['energy'] > 0.6:\n",
        "        return \"Angry\"\n",
        "    elif row['energy'] > 0.6:\n",
        "        return \"Energetic\"\n",
        "    elif row['valence'] > 0.6:\n",
        "        return \"Calm\"\n",
        "    else:\n",
        "        return \"Neutral\"\n",
        "\n",
        "data['mood'] = data.apply(classify_mood, axis=1)"
      ],
      "metadata": {
        "id": "Oyj0wIZT6PJ0"
      },
      "execution_count": null,
      "outputs": []
    },
    {
      "cell_type": "code",
      "source": [
        "from sklearn.model_selection import train_test_split\n",
        "\n",
        "X_train, X_test, y_train, y_test = train_test_split(X_scaled, Y, test_size=0.2, random_state=42)"
      ],
      "metadata": {
        "id": "vTfJYD2uGgd5"
      },
      "execution_count": null,
      "outputs": []
    },
    {
      "cell_type": "code",
      "source": [
        "from sklearn.ensemble import RandomForestClassifier\n",
        "\n",
        "model = RandomForestClassifier(random_state=42)\n",
        "model.fit(X_train, y_train)\n"
      ],
      "metadata": {
        "id": "aafGcAPv6YWi"
      },
      "execution_count": null,
      "outputs": []
    },
    {
      "cell_type": "code",
      "source": [
        "from sklearn.metrics import accuracy_score, classification_report\n",
        "\n",
        "y_pred = model.predict(X_test)\n",
        "print(\"Accuracy:\", accuracy_score(y_test, y_pred))\n",
        "print(classification_report(y_test, y_pred))\n"
      ],
      "metadata": {
        "id": "HOiVe48o6gr8"
      },
      "execution_count": null,
      "outputs": []
    },
    {
      "cell_type": "code",
      "source": [
        "import seaborn as sns\n",
        "import matplotlib.pyplot as plt\n",
        "\n",
        "sns.countplot(x='mood', data=data, palette='viridis')\n",
        "plt.title(\"Mood Distribution\")\n",
        "plt.show()\n"
      ],
      "metadata": {
        "id": "R1sYN5TG6oYA"
      },
      "execution_count": null,
      "outputs": []
    },
    {
      "cell_type": "code",
      "source": [
        "# prompt: predict new songs using trained data\n",
        "\n",
        "import pandas as pd\n",
        "import numpy as np\n",
        "\n",
        "new_song_data = pd.DataFrame([[0.7, 0.8, 0, 0, 0, 0, 0, 0, 0, 0.9, 120, 0]],\n",
        "                             columns=features)\n",
        "\n",
        "from sklearn.preprocessing import StandardScaler\n",
        "\n",
        "scaler = StandardScaler()\n",
        "scaler.fit(X)\n",
        "new_song_scaled = scaler.transform(new_song_data)\n",
        "\n",
        "\n",
        "# Predict the mood of the new song\n",
        "predictions = model.predict(new_song_scaled)\n",
        "print(predictions)\n",
        "\n",
        "\n",
        "# You can add the predicted mood back to your DataFrame\n",
        "new_song_data['predicted_mood'] = predictions\n",
        "new_song_data"
      ],
      "metadata": {
        "id": "ihFKINdCDzoa"
      },
      "execution_count": null,
      "outputs": []
    },
    {
      "cell_type": "code",
      "source": [
        "new_songs_data = pd.DataFrame({\n",
        "    'danceability': [0.7, 0.4, 0.9, 0.5, 0.6],\n",
        "    'energy': [0.8, 0.2, 0.7, 0.9, 0.3],\n",
        "    'key': [0, 5, 10, 2, 7],\n",
        "    'loudness': [0, -5, -2, 0, -3],\n",
        "    'mode': [0, 1, 0, 1, 0],\n",
        "    'speechiness': [0.1, 0.05, 0.2, 0.01, 0.15],\n",
        "    'acousticness': [0.1, 0.8, 0.05, 0.2, 0.6],\n",
        "    'instrumentalness': [0, 0.9, 0.01, 0.1, 0.05],\n",
        "    'liveness': [0.2, 0.1, 0.3, 0.05, 0.25],\n",
        "    'valence': [0.9, 0.3, 0.7, 0.6, 0.4],\n",
        "    'tempo': [120, 90, 130, 110, 85],\n",
        "    'time_signature': [4, 4, 4, 3, 4]\n",
        "})\n",
        "\n",
        "# Scale the new song data using the same scaler fitted on the training data\n",
        "new_songs_scaled = scaler.transform(new_songs_data)\n",
        "\n",
        "# Predict the genre of the new songs\n",
        "predictions = model.predict(new_songs_scaled)\n",
        "print(predictions)\n",
        "\n",
        "# Add predictions to the DataFrame\n",
        "new_songs_data['predicted_genre'] = predictions\n",
        "new_songs_data"
      ],
      "metadata": {
        "id": "2zM7-ke9L4HC"
      },
      "execution_count": null,
      "outputs": []
    }
  ]
}